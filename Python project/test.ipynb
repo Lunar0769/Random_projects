{
 "cells": [
  {
   "cell_type": "code",
   "execution_count": 43,
   "id": "ce500c92",
   "metadata": {},
   "outputs": [
    {
     "name": "stderr",
     "output_type": "stream",
     "text": [
      "<>:3: SyntaxWarning: invalid escape sequence '\\s'\n",
      "<>:3: SyntaxWarning: invalid escape sequence '\\s'\n",
      "C:\\Users\\Kavya\\AppData\\Local\\Temp\\ipykernel_27496\\686465601.py:3: SyntaxWarning: invalid escape sequence '\\s'\n",
      "  data=re.findall(\"[a-zA-Z]*[aeiou]{1}\\s[aeiou]{1}[a-z]*\", text)\n"
     ]
    },
    {
     "name": "stdout",
     "output_type": "stream",
     "text": [
      "[]\n"
     ]
    }
   ],
   "source": [
    "import re\n",
    "text=input(\"Enter a string: \")\n",
    "data=re.findall(\"[a-zA-Z]*[aeiou]{1}\\s[aeiou]{1}[a-z]*\", text)\n",
    "print(data)\n"
   ]
  },
  {
   "cell_type": "code",
   "execution_count": 45,
   "id": "f8a3ab06",
   "metadata": {},
   "outputs": [
    {
     "name": "stdout",
     "output_type": "stream",
     "text": [
      "True\n"
     ]
    }
   ],
   "source": [
    "text=input(\"Enter a string: \")\n",
    "data=[]\n",
    "word=re.split(r'\\s+', text)\n",
    "vo = ['a','e','i',' o', 'u']\n",
    "for i in range(len(word)):\n",
    "    \n",
    "    if i==0:\n",
    "         if re.search('[aeiou]$', word[i]):\n",
    "            data.append(word[i])\n",
    "    elif( i==len(word)-1):\n",
    "        if re.search('^[aeiou]', word[i]):\n",
    "            data.append(word[i])\n",
    "    else:\n",
    "        if re.search('^[aeiou][a-z]*[aeiou]$', word[i]):\n",
    "            data.append(word[i])\n",
    "if word==data:\n",
    "    print(\"True\")\n",
    "else:\n",
    "    print(\"False\")\n",
    "\n"
   ]
  },
  {
   "cell_type": "code",
   "execution_count": null,
   "id": "7929eeae",
   "metadata": {},
   "outputs": [],
   "source": []
  }
 ],
 "metadata": {
  "kernelspec": {
   "display_name": "Python 3",
   "language": "python",
   "name": "python3"
  },
  "language_info": {
   "codemirror_mode": {
    "name": "ipython",
    "version": 3
   },
   "file_extension": ".py",
   "mimetype": "text/x-python",
   "name": "python",
   "nbconvert_exporter": "python",
   "pygments_lexer": "ipython3",
   "version": "3.13.1"
  }
 },
 "nbformat": 4,
 "nbformat_minor": 5
}
